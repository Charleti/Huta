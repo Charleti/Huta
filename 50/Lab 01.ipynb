{
  "nbformat": 4,
  "nbformat_minor": 0,
  "metadata": {
    "colab": {
      "provenance": []
    },
    "kernelspec": {
      "name": "python3",
      "display_name": "Python 3"
    },
    "language_info": {
      "name": "python"
    }
  },
  "cells": [
    {
      "cell_type": "code",
      "execution_count": 1,
      "metadata": {
        "id": "ZR5vm0pXdY8z"
      },
      "outputs": [],
      "source": [
        "import tensorflow as tf\n",
        "\n",
        "import numpy as np\n",
        "\n",
        "train = np.array([*range(1, 11)], dtype=np.float32)\n",
        "\n",
        "label = train * 0.5 + 0.5"
      ]
    },
    {
      "cell_type": "code",
      "source": [
        "!apt-get install tensorflow-model-server"
      ],
      "metadata": {
        "id": "pRDkla5ddg3x"
      },
      "execution_count": null,
      "outputs": []
    },
    {
      "cell_type": "code",
      "source": [
        "train"
      ],
      "metadata": {
        "colab": {
          "base_uri": "https://localhost:8080/"
        },
        "id": "pg6OneaQdrpH",
        "outputId": "ce5a7d4c-903b-4d4e-c621-12c6db81a058"
      },
      "execution_count": 3,
      "outputs": [
        {
          "output_type": "execute_result",
          "data": {
            "text/plain": [
              "array([ 1.,  2.,  3.,  4.,  5.,  6.,  7.,  8.,  9., 10.], dtype=float32)"
            ]
          },
          "metadata": {},
          "execution_count": 3
        }
      ]
    },
    {
      "cell_type": "code",
      "source": [
        "label"
      ],
      "metadata": {
        "colab": {
          "base_uri": "https://localhost:8080/"
        },
        "id": "eaHX_VvidsFr",
        "outputId": "9b17541e-1d69-4235-d10d-afcbef680fde"
      },
      "execution_count": 4,
      "outputs": [
        {
          "output_type": "execute_result",
          "data": {
            "text/plain": [
              "array([1. , 1.5, 2. , 2.5, 3. , 3.5, 4. , 4.5, 5. , 5.5], dtype=float32)"
            ]
          },
          "metadata": {},
          "execution_count": 4
        }
      ]
    },
    {
      "cell_type": "code",
      "source": [
        "model = tf.keras.models.Sequential([\n",
        "  tf.keras.layers.Dense(1, input_shape=(1,))\n",
        "])\n",
        "\n",
        "model.compile(optimizer='sgd', loss='mse')\n",
        "\n",
        "model.fit(train, label, epochs=1000, verbose=0)"
      ],
      "metadata": {
        "id": "ax1IoHVodxdE"
      },
      "execution_count": null,
      "outputs": []
    },
    {
      "cell_type": "code",
      "source": [
        "import os\n",
        "\n",
        "model_folder = \"/content/linear\"\n",
        "\n",
        "model_version = \"1\"\n",
        "\n",
        "model.export(os.path.join(model_folder, model_version))"
      ],
      "metadata": {
        "id": "Lyh0-LQMeLwl"
      },
      "execution_count": null,
      "outputs": []
    },
    {
      "cell_type": "code",
      "source": [
        "os.environ[\"MODEL_FOLDER\"] = model_folder"
      ],
      "metadata": {
        "id": "3ESC7tXJeQU3"
      },
      "execution_count": 7,
      "outputs": []
    },
    {
      "cell_type": "code",
      "source": [
        "%%bash --bg\n",
        "nohup tensorflow_model_server \\\n",
        "  --rest_api_port=8501 \\\n",
        "  --model_name=linear_model \\\n",
        "  --model_base_path=\"${MODEL_FOLDER}\" > server.log 2>&1"
      ],
      "metadata": {
        "id": "X5VQzNH3eS8Z"
      },
      "execution_count": 8,
      "outputs": []
    },
    {
      "cell_type": "code",
      "source": [
        "!tail server.log"
      ],
      "metadata": {
        "id": "RJHHkAhxeWs0"
      },
      "execution_count": null,
      "outputs": []
    },
    {
      "cell_type": "code",
      "source": [
        "localurl = \"http://localhost:8501/v1/models/linear_model:predict\"\n",
        "\n",
        "os.environ[\"localurl\"] = localurl"
      ],
      "metadata": {
        "id": "h6cLGBUqeupP"
      },
      "execution_count": 10,
      "outputs": []
    },
    {
      "cell_type": "code",
      "source": [
        "!curl -d \"{\\\"instances\\\": [[11]]}\" -H 'content-type: application/json' -X POST $localurl"
      ],
      "metadata": {
        "id": "0uTY4-R-ezXU"
      },
      "execution_count": null,
      "outputs": []
    },
    {
      "cell_type": "markdown",
      "source": [
        "```shell\n",
        "{\n",
        "  \"predictions\": [[6.00248289]]\n",
        "}\n",
        "```"
      ],
      "metadata": {
        "id": "ZD5VlU3UjbeK"
      }
    },
    {
      "cell_type": "code",
      "source": [
        "!curl -d \"{\\\"instances\\\": [[11], [12]]}\" -H 'content-type: application/json' -X POST $localurl"
      ],
      "metadata": {
        "id": "XUaMUpide2T_"
      },
      "execution_count": null,
      "outputs": []
    },
    {
      "cell_type": "markdown",
      "source": [
        "```shell\n",
        "{\n",
        "  \"predictions\": [[6.00248289], [6.50309801]]\n",
        "}\n",
        "```"
      ],
      "metadata": {
        "id": "1fx_JXq8jiB_"
      }
    },
    {
      "cell_type": "code",
      "source": [
        "import json, requests\n",
        "\n",
        "content = {\"content-type\": \"application/json\"}\n",
        "\n",
        "data = json.dumps({\"instances\":[[11], [12]]})\n",
        "\n",
        "response = requests.post(localurl, data=data, headers=content)\n",
        "\n",
        "response.text"
      ],
      "metadata": {
        "colab": {
          "base_uri": "https://localhost:8080/",
          "height": 35
        },
        "id": "8LwVm8Uyg1BX",
        "outputId": "31a77c61-3cd1-479b-c1f3-3760d28bf448"
      },
      "execution_count": 13,
      "outputs": [
        {
          "output_type": "execute_result",
          "data": {
            "text/plain": [
              "'{\\n    \"predictions\": [[6.00248289], [6.50309801]\\n    ]\\n}'"
            ],
            "application/vnd.google.colaboratory.intrinsic+json": {
              "type": "string"
            }
          },
          "metadata": {},
          "execution_count": 13
        }
      ]
    },
    {
      "cell_type": "code",
      "source": [
        "result = json.loads(response.text)\n",
        "\n",
        "result = result[\"predictions\"]\n",
        "\n",
        "result"
      ],
      "metadata": {
        "colab": {
          "base_uri": "https://localhost:8080/"
        },
        "id": "8gaHn48hhKCb",
        "outputId": "dd609d0c-7860-4144-b90a-aefdd2a43e2e"
      },
      "execution_count": 14,
      "outputs": [
        {
          "output_type": "execute_result",
          "data": {
            "text/plain": [
              "[[6.00248289], [6.50309801]]"
            ]
          },
          "metadata": {},
          "execution_count": 14
        }
      ]
    },
    {
      "cell_type": "code",
      "source": [
        "data = json.dumps({\"instances\":[[11]]})\n",
        "\n",
        "response = requests.post(localurl, data=data, headers=content)\n",
        "\n",
        "result = json.loads(response.text)\n",
        "\n",
        "result = result[\"predictions\"]\n",
        "\n",
        "result"
      ],
      "metadata": {
        "colab": {
          "base_uri": "https://localhost:8080/"
        },
        "id": "TXN3Hdn9isnq",
        "outputId": "fd8131bf-ea9d-4666-ef8f-8da832194476"
      },
      "execution_count": 15,
      "outputs": [
        {
          "output_type": "execute_result",
          "data": {
            "text/plain": [
              "[[6.00248289]]"
            ]
          },
          "metadata": {},
          "execution_count": 15
        }
      ]
    }
  ]
}