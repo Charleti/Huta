{
  "nbformat": 4,
  "nbformat_minor": 0,
  "metadata": {
    "colab": {
      "provenance": []
    },
    "kernelspec": {
      "name": "python3",
      "display_name": "Python 3"
    },
    "language_info": {
      "name": "python"
    }
  },
  "cells": [
    {
      "cell_type": "code",
      "execution_count": null,
      "metadata": {
        "id": "P48agLDLiRbt"
      },
      "outputs": [],
      "source": [
        "import tensorflow as tf\n",
        "\n",
        "from tensorflow.keras import callbacks, models, layers\n",
        "\n",
        "import warnings\n",
        "\n",
        "warnings.filterwarnings(\"ignore\")\n",
        "\n",
        "(train_image, train_label), (test_image, test_label) = tf.keras.datasets.mnist.load_data()"
      ]
    },
    {
      "cell_type": "code",
      "source": [
        "rescale = lambda i : i / 255.0\n",
        "\n",
        "train_image = rescale(train_image)\n",
        "\n",
        "test_image = rescale(test_image)"
      ],
      "metadata": {
        "id": "lNH8yU1KjemL"
      },
      "execution_count": null,
      "outputs": []
    },
    {
      "cell_type": "code",
      "source": [
        "model = models.Sequential([\n",
        "  layers.Flatten(input_shape=(28, 28)),\n",
        "  layers.Dense(128, activation='relu'),\n",
        "  layers.Dense(10, activation='softmax')\n",
        "])"
      ],
      "metadata": {
        "id": "zdaFwF5mj702"
      },
      "execution_count": null,
      "outputs": []
    },
    {
      "cell_type": "code",
      "source": [
        "model.compile(optimizer=\"adam\", loss=\"sparse_categorical_crossentropy\", metrics=[\"accuracy\"])"
      ],
      "metadata": {
        "id": "nTG-PMk4j9gk"
      },
      "execution_count": null,
      "outputs": []
    },
    {
      "cell_type": "code",
      "source": [
        "class EarlyStoppingCallback(callbacks.Callback):\n",
        "  \"\"\"\n",
        "  Callback Class on Model\n",
        "  \"\"\"\n",
        "  def on_epoch_end(self, epochs, logs={}):\n",
        "    if logs.get(\"accuracy\") > 0.98:\n",
        "      self.model.stop_training = True"
      ],
      "metadata": {
        "id": "2DaN1SnJkeqe"
      },
      "execution_count": null,
      "outputs": []
    },
    {
      "cell_type": "code",
      "source": [
        "callbacks = EarlyStoppingCallback()\n",
        "\n",
        "hist = model.fit(train_image, train_label, epochs=10, callbacks=[callbacks])"
      ],
      "metadata": {
        "id": "F06nev_skFOl"
      },
      "execution_count": null,
      "outputs": []
    },
    {
      "cell_type": "code",
      "source": [
        "model.evaluate(test_image, test_label, verbose=0)"
      ],
      "metadata": {
        "colab": {
          "base_uri": "https://localhost:8080/"
        },
        "id": "ECEUuFBSlG72",
        "outputId": "0c5d801a-21e0-41b6-c0d1-aa1d93a304f1"
      },
      "execution_count": null,
      "outputs": [
        {
          "output_type": "execute_result",
          "data": {
            "text/plain": [
              "[0.0817476287484169, 0.9739999771118164]"
            ]
          },
          "metadata": {},
          "execution_count": 7
        }
      ]
    },
    {
      "cell_type": "code",
      "source": [
        "model.evaluate(train_image, train_label, verbose=0)"
      ],
      "metadata": {
        "colab": {
          "base_uri": "https://localhost:8080/"
        },
        "id": "bVeiEEm1lJGb",
        "outputId": "5126a037-43d8-41e6-fc2e-42449df766e8"
      },
      "execution_count": null,
      "outputs": [
        {
          "output_type": "execute_result",
          "data": {
            "text/plain": [
              "[0.04569081962108612, 0.986549973487854]"
            ]
          },
          "metadata": {},
          "execution_count": 8
        }
      ]
    },
    {
      "cell_type": "code",
      "source": [
        "len(hist.history[\"accuracy\"])"
      ],
      "metadata": {
        "colab": {
          "base_uri": "https://localhost:8080/"
        },
        "id": "dGElcu0clcn9",
        "outputId": "0f9a21b4-e836-40f9-8dfa-440f1baa8820"
      },
      "execution_count": null,
      "outputs": [
        {
          "output_type": "execute_result",
          "data": {
            "text/plain": [
              "4"
            ]
          },
          "metadata": {},
          "execution_count": 9
        }
      ]
    }
  ]
}